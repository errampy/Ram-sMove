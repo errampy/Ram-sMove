{
 "cells": [
  {
   "cell_type": "code",
   "execution_count": 15,
   "id": "1a71406f-51df-40e3-8dd6-6aa6f83f6c2e",
   "metadata": {},
   "outputs": [
    {
     "name": "stdout",
     "output_type": "stream",
     "text": [
      "[1 2 3]\n",
      "1\n",
      "(3,)\n",
      "int64\n",
      "8\n"
     ]
    }
   ],
   "source": [
    "import numpy as np\n",
    "l1 = [1,2,3]\n",
    "a = np.array(l1)\n",
    "print(a)\n",
    "print(a.ndim)\n",
    "print(a.shape)\n",
    "print(a.dtype)\n",
    "print(a.itemsize)"
   ]
  },
  {
   "cell_type": "code",
   "execution_count": 1,
   "id": "fa51cdf5-77af-42ac-878a-63912a15e443",
   "metadata": {
    "scrolled": true
   },
   "outputs": [
    {
     "name": "stdout",
     "output_type": "stream",
     "text": [
      "Array : \n",
      " [[1 2 3]\n",
      " [4 5 6]\n",
      " [7 8 9]]\n",
      "Dimention of array: \n",
      " 2\n",
      "Shape of array: \n",
      " (3, 3)\n",
      "Data types of array: \n",
      " int64\n",
      "Item size of array: \n",
      " 8\n",
      "[[1, 2, 3], [4, 5, 6], [7, 8, 9], [1, 2, 3], [4, 5, 6], [7, 8, 9]]\n"
     ]
    }
   ],
   "source": [
    "import numpy as np\n",
    "a = [[1,2,3],[4,5,6],[7,8,9]]\n",
    "my_array = np.array(a)\n",
    "print(\"Array : \\n\",my_array)\n",
    "print(\"Dimention of array: \\n\", my_array.ndim)\n",
    "print(\"Shape of array: \\n\", my_array.shape)\n",
    "print(\"Data types of array: \\n\", my_array.dtype)\n",
    "print(\"Item size of array: \\n\",my_array.itemsize)\n",
    "print(a*2)"
   ]
  }
 ],
 "metadata": {
  "kernelspec": {
   "display_name": "Python 3 (ipykernel)",
   "language": "python",
   "name": "python3"
  },
  "language_info": {
   "codemirror_mode": {
    "name": "ipython",
    "version": 3
   },
   "file_extension": ".py",
   "mimetype": "text/x-python",
   "name": "python",
   "nbconvert_exporter": "python",
   "pygments_lexer": "ipython3",
   "version": "3.12.4"
  }
 },
 "nbformat": 4,
 "nbformat_minor": 5
}
