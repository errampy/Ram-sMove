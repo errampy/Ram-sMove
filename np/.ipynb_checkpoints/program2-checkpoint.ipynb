{
 "cells": [
  {
   "cell_type": "code",
   "execution_count": 19,
   "id": "b4960ecb-bc01-4fec-97b0-496c4e1521ec",
   "metadata": {},
   "outputs": [
    {
     "name": "stdout",
     "output_type": "stream",
     "text": [
      "******************************\n",
      "New Array:  [1 2 3 4 5 6]\n",
      "Data Type Of Array:  int64\n",
      "Dimention Of Array:  1\n",
      "Shape Of Array:  (6,)\n",
      "Size Of Array:  6\n",
      "Item Size Of Array:  8\n",
      "******************************\n"
     ]
    }
   ],
   "source": [
    "import numpy as np\n",
    "\n",
    "a = [1,2,3,4,5,6]\n",
    "new_array = np.array(a)\n",
    "print('*'*30)\n",
    "\n",
    "print('New Array: ',new_array)\n",
    "print('Data Type Of Array: ',new_array.dtype)\n",
    "print('Dimention Of Array: ',new_array.ndim)\n",
    "print('Shape Of Array: ',new_array.shape)\n",
    "print('Size Of Array: ',new_array.size)\n",
    "print('Item Size Of Array: ',new_array.itemsize)\n",
    "\n",
    "print('*'*30)"
   ]
  },
  {
   "cell_type": "code",
   "execution_count": null,
   "id": "e20e3d80-d244-4e9f-8d04-4d123c575296",
   "metadata": {},
   "outputs": [],
   "source": [
    "import numpy as np\n",
    "subject = ['math', 'hindi','english', 'physics', 'chemistry']"
   ]
  }
 ],
 "metadata": {
  "kernelspec": {
   "display_name": "Python 3 (ipykernel)",
   "language": "python",
   "name": "python3"
  },
  "language_info": {
   "codemirror_mode": {
    "name": "ipython",
    "version": 3
   },
   "file_extension": ".py",
   "mimetype": "text/x-python",
   "name": "python",
   "nbconvert_exporter": "python",
   "pygments_lexer": "ipython3",
   "version": "3.12.4"
  }
 },
 "nbformat": 4,
 "nbformat_minor": 5
}
