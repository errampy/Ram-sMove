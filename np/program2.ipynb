{
 "cells": [
  {
   "cell_type": "code",
   "execution_count": 19,
   "id": "b4960ecb-bc01-4fec-97b0-496c4e1521ec",
   "metadata": {},
   "outputs": [
    {
     "name": "stdout",
     "output_type": "stream",
     "text": [
      "******************************\n",
      "New Array:  [1 2 3 4 5 6]\n",
      "Data Type Of Array:  int64\n",
      "Dimention Of Array:  1\n",
      "Shape Of Array:  (6,)\n",
      "Size Of Array:  6\n",
      "Item Size Of Array:  8\n",
      "******************************\n"
     ]
    }
   ],
   "source": [
    "import numpy as np\n",
    "\n",
    "a = [1,2,3,4,5,6]\n",
    "new_array = np.array(a)\n",
    "print('*'*30)\n",
    "\n",
    "print('New Array: ',new_array)\n",
    "print('Data Type Of Array: ',new_array.dtype)\n",
    "print('Dimention Of Array: ',new_array.ndim)\n",
    "print('Shape Of Array: ',new_array.shape)\n",
    "print('Size Of Array: ',new_array.size)\n",
    "print('Item Size Of Array: ',new_array.itemsize)\n",
    "\n",
    "print('*'*30)"
   ]
  },
  {
   "cell_type": "code",
   "execution_count": 35,
   "id": "e20e3d80-d244-4e9f-8d04-4d123c575296",
   "metadata": {},
   "outputs": [
    {
     "name": "stdout",
     "output_type": "stream",
     "text": [
      "Details Array: \n",
      " [['math' 'hindi' 'english' 'physics' 'chemistry']\n",
      " ['87' '54' '39' '56' '56']]\n",
      "Data type of array:  <U21\n",
      "Size of array:  10\n",
      "Shape of array:  (2, 5)\n",
      "Dimention of array:  2\n",
      "Item Size of array:  84\n"
     ]
    }
   ],
   "source": [
    "import numpy as np\n",
    "subjects = ['math', 'hindi','english', 'physics', 'chemistry']\n",
    "marks = [87,54,39,56,56]\n",
    "details = np.array([subjects,marks])\n",
    "print('Details Array: \\n',details)\n",
    "print('Data type of array: ',details.dtype)\n",
    "print('Size of array: ',details.size)\n",
    "print('Shape of array: ',details.shape)\n",
    "print('Dimention of array: ',details.ndim)\n",
    "print('Item Size of array: ',details.itemsize)"
   ]
  },
  {
   "cell_type": "code",
   "execution_count": 47,
   "id": "f199eb60-3453-4496-80c8-b1fa371031f9",
   "metadata": {},
   "outputs": [
    {
     "name": "stdout",
     "output_type": "stream",
     "text": [
      "array 1\n",
      "\n",
      " [[1 2 3 4]\n",
      " [4 3 2 1]]\n",
      "\n",
      "array 2\n",
      "\n",
      " [[10 20 30 40]\n",
      " [40 30 20 10]]\n",
      "\n",
      "m1*m2 \n",
      "\n",
      " [[ 10  40  90 160]\n",
      " [160  90  40  10]]\n",
      "dot [[300 200]\n",
      " [200 300]]\n"
     ]
    }
   ],
   "source": [
    "import numpy as np\n",
    "m1 = np.array([[1,2,3,4],[4,3,2,1]])\n",
    "m2 = np.array([[10,20,30,40],[40,30,20,10]])\n",
    "print('array 1\\n\\n',m1)\n",
    "print()\n",
    "print('array 2\\n\\n',m2)\n",
    "print()\n",
    "print('m1*m2 \\n\\n',m1*m2)\n",
    "\n",
    "print('dot',m1.dot(m2.transpose()))\n",
    "\n"
   ]
  },
  {
   "cell_type": "code",
   "execution_count": 49,
   "id": "67f0feff-db90-47d1-9dcf-99e42a39f647",
   "metadata": {},
   "outputs": [
    {
     "name": "stdout",
     "output_type": "stream",
     "text": [
      "dot_product [[ 7 10]\n",
      " [15 22]]\n"
     ]
    }
   ],
   "source": [
    "import numpy as np\n",
    "a = np.array([[1,2],[3,4]])\n",
    "b = np.array([[1,2],[3,4]])\n",
    "dot_product = a.dot(b)\n",
    "print('dot_product',dot_product)"
   ]
  },
  {
   "cell_type": "code",
   "execution_count": 51,
   "id": "85a5a7d5-49f0-463f-a655-6370f94148f7",
   "metadata": {},
   "outputs": [
    {
     "name": "stdout",
     "output_type": "stream",
     "text": [
      "MATRIX MULTIPLICATION\n",
      "[[ 10  90]\n",
      " [ 40 160]]\n",
      "MATRIX DOT PRODUCDT\n",
      "[[ 70 150]\n",
      " [100 220]]\n"
     ]
    }
   ],
   "source": [
    "a = np.array([[1,3],[2,4]])\n",
    "b = np.array([[10,30],[20,40]])\n",
    "print('MATRIX MULTIPLICATION')\n",
    "print(a*b)\n",
    "print('MATRIX DOT PRODUCDT')\n",
    "print(a.dot(b))"
   ]
  }
 ],
 "metadata": {
  "kernelspec": {
   "display_name": "Python 3 (ipykernel)",
   "language": "python",
   "name": "python3"
  },
  "language_info": {
   "codemirror_mode": {
    "name": "ipython",
    "version": 3
   },
   "file_extension": ".py",
   "mimetype": "text/x-python",
   "name": "python",
   "nbconvert_exporter": "python",
   "pygments_lexer": "ipython3",
   "version": "3.12.4"
  }
 },
 "nbformat": 4,
 "nbformat_minor": 5
}
