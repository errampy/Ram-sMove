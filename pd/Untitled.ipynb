{
 "cells": [
  {
   "cell_type": "code",
   "execution_count": 46,
   "id": "d3125f60-ba45-461a-85ee-9a93a060a2ea",
   "metadata": {},
   "outputs": [
    {
     "data": {
      "text/html": [
       "<div>\n",
       "<style scoped>\n",
       "    .dataframe tbody tr th:only-of-type {\n",
       "        vertical-align: middle;\n",
       "    }\n",
       "\n",
       "    .dataframe tbody tr th {\n",
       "        vertical-align: top;\n",
       "    }\n",
       "\n",
       "    .dataframe thead th {\n",
       "        text-align: right;\n",
       "    }\n",
       "</style>\n",
       "<table border=\"1\" class=\"dataframe\">\n",
       "  <thead>\n",
       "    <tr style=\"text-align: right;\">\n",
       "      <th></th>\n",
       "      <th>City_Code</th>\n",
       "      <th>City_Name</th>\n",
       "    </tr>\n",
       "  </thead>\n",
       "  <tbody>\n",
       "    <tr>\n",
       "      <th>5</th>\n",
       "      <td>CT06</td>\n",
       "      <td>Jaipur</td>\n",
       "    </tr>\n",
       "    <tr>\n",
       "      <th>6</th>\n",
       "      <td>CT07</td>\n",
       "      <td>Kochi</td>\n",
       "    </tr>\n",
       "    <tr>\n",
       "      <th>7</th>\n",
       "      <td>CT08</td>\n",
       "      <td>Kolkata</td>\n",
       "    </tr>\n",
       "    <tr>\n",
       "      <th>8</th>\n",
       "      <td>CT09</td>\n",
       "      <td>Delhi</td>\n",
       "    </tr>\n",
       "    <tr>\n",
       "      <th>9</th>\n",
       "      <td>CT10</td>\n",
       "      <td>Bangalore</td>\n",
       "    </tr>\n",
       "  </tbody>\n",
       "</table>\n",
       "</div>"
      ],
      "text/plain": [
       "  City_Code  City_Name\n",
       "5      CT06     Jaipur\n",
       "6      CT07      Kochi\n",
       "7      CT08    Kolkata\n",
       "8      CT09      Delhi\n",
       "9      CT10  Bangalore"
      ]
     },
     "execution_count": 46,
     "metadata": {},
     "output_type": "execute_result"
    }
   ],
   "source": [
    "import pandas as pd\n",
    "df = pd.read_csv(\"DataSets/cars/City_Master.csv\", header=0, usecols=['City_Code','City_Name'])\n",
    "df.head(10).tail(-5)"
   ]
  },
  {
   "cell_type": "code",
   "execution_count": 94,
   "id": "2f8ab337-c0f1-4809-b8f7-7e3351a4323d",
   "metadata": {},
   "outputs": [
    {
     "name": "stdout",
     "output_type": "stream",
     "text": [
      "error :  'DataFrame' object has no attribute 'raj'\n"
     ]
    }
   ],
   "source": [
    "import pandas as pd\n",
    "try:\n",
    "    df = pd.read_clipboard(header=None)\n",
    "    df.raj()\n",
    "except Exception as error:\n",
    "    # EmptyDataError\n",
    "    print('error : ',error)"
   ]
  },
  {
   "cell_type": "code",
   "execution_count": null,
   "id": "921410c5-8012-4d72-9eb2-042208f1aaa6",
   "metadata": {},
   "outputs": [],
   "source": []
  },
  {
   "cell_type": "code",
   "execution_count": 133,
   "id": "d087fe5f-c0c7-47b7-ba06-d135291e4c8b",
   "metadata": {},
   "outputs": [],
   "source": [
    "import pandas as pd\n",
    "def my_func():\n",
    "    return None\n",
    "df = pd.read_excel('DataSets/AdventureWorks2017.xlsx',sheet_name =['FactInternetSales', 'DimProductCategory', 'DimProductSubcategory'] ,converters={'ShipDateKey':my_func()})\n",
    "for data in df.keys():\n",
    "    df[data]"
   ]
  },
  {
   "cell_type": "code",
   "execution_count": null,
   "id": "823f5511-d0f9-43b5-85bb-c6e701703341",
   "metadata": {},
   "outputs": [],
   "source": []
  }
 ],
 "metadata": {
  "kernelspec": {
   "display_name": "Python 3 (ipykernel)",
   "language": "python",
   "name": "python3"
  },
  "language_info": {
   "codemirror_mode": {
    "name": "ipython",
    "version": 3
   },
   "file_extension": ".py",
   "mimetype": "text/x-python",
   "name": "python",
   "nbconvert_exporter": "python",
   "pygments_lexer": "ipython3",
   "version": "3.12.4"
  }
 },
 "nbformat": 4,
 "nbformat_minor": 5
}
