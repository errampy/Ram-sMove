{
 "cells": [
  {
   "cell_type": "code",
   "execution_count": 3,
   "id": "2cb47fa5-1226-429f-bb8b-86ffeee60f6d",
   "metadata": {},
   "outputs": [
    {
     "data": {
      "text/plain": [
       "color\n",
       "Black     0.233333\n",
       "Silver    0.213333\n",
       "Red       0.166667\n",
       "Blue      0.113333\n",
       "Gray      0.106667\n",
       "White     0.106667\n",
       "Green     0.033333\n",
       "Yellow    0.020000\n",
       "Gold      0.006667\n",
       "Name: proportion, dtype: float64"
      ]
     },
     "execution_count": 3,
     "metadata": {},
     "output_type": "execute_result"
    }
   ],
   "source": [
    "import pandas as pd\n",
    "\n",
    "df = pd.read_csv('../DataSets/usedcars.csv')\n",
    "df.color.value_counts(normalize=True,ascending=False)"
   ]
  }
 ],
 "metadata": {
  "kernelspec": {
   "display_name": "Python 3 (ipykernel)",
   "language": "python",
   "name": "python3"
  },
  "language_info": {
   "codemirror_mode": {
    "name": "ipython",
    "version": 3
   },
   "file_extension": ".py",
   "mimetype": "text/x-python",
   "name": "python",
   "nbconvert_exporter": "python",
   "pygments_lexer": "ipython3",
   "version": "3.12.4"
  }
 },
 "nbformat": 4,
 "nbformat_minor": 5
}
