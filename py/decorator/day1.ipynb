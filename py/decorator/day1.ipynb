{
 "cells": [
  {
   "cell_type": "code",
   "execution_count": 3,
   "id": "b478a5a7-2443-4f6f-852f-8657aa134287",
   "metadata": {},
   "outputs": [
    {
     "name": "stdout",
     "output_type": "stream",
     "text": [
      "<function home at 0x7ff2f326f7e0>\n",
      "<function home at 0x7ff2f326f7e0>\n",
      "home function\n",
      "None\n"
     ]
    }
   ],
   "source": [
    "# Normal Function\n",
    "def home():\n",
    "    print('home function')\n",
    "\n",
    "h = home\n",
    "print(h)\n",
    "print(home)\n",
    "print(h())"
   ]
  },
  {
   "cell_type": "code",
   "execution_count": 17,
   "id": "1ba3efc9-94e6-4f76-ad37-ce32791cccc3",
   "metadata": {},
   "outputs": [
    {
     "name": "stdout",
     "output_type": "stream",
     "text": [
      "water bottle\n",
      "bottle with water\n",
      "bottle\n",
      "None\n",
      "None\n"
     ]
    }
   ],
   "source": [
    "def bottle_with_water(func):\n",
    "    print('water bottle')\n",
    "    def fill_water():\n",
    "        print('bottle with water')\n",
    "        print(func())\n",
    "    return fill_water\n",
    "\n",
    "@bottle_with_water\n",
    "def bottle():\n",
    "    print('bottle')\n",
    "b = bottle\n",
    "print(b())\n"
   ]
  },
  {
   "cell_type": "markdown",
   "id": "0bb47d69-74d9-4f68-82c4-35d30a3f37e8",
   "metadata": {},
   "source": [
    "# What is Decorator\n",
    "    Decorator is a function that take argument as function , and its extend there functionality and return the output as extended \n",
    "    functionality."
   ]
  }
 ],
 "metadata": {
  "kernelspec": {
   "display_name": "Python 3 (ipykernel)",
   "language": "python",
   "name": "python3"
  },
  "language_info": {
   "codemirror_mode": {
    "name": "ipython",
    "version": 3
   },
   "file_extension": ".py",
   "mimetype": "text/x-python",
   "name": "python",
   "nbconvert_exporter": "python",
   "pygments_lexer": "ipython3",
   "version": "3.12.4"
  }
 },
 "nbformat": 4,
 "nbformat_minor": 5
}
